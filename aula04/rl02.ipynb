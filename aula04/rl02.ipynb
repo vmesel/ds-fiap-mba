{
 "cells": [
  {
   "cell_type": "markdown",
   "id": "772a0cf1-25f1-45b3-891a-e22c55fab71b",
   "metadata": {},
   "source": [
    "<b>Introdução</b> <br/>\n",
    "Problemas de Regressão são problemas de previsão de dados. Regressão não é um conceito da área de Machine Learning em si, mas da Estatística. Os conceitos que serão abordados, podem ser aplicados tanto para a regressão simples quanto para múltipla. Aliás, como diferenciá-las? E o que é Regressão?\n",
    "\n",
    "<b>O que é uma Regressão Linear Simples?</b></br>\n",
    "RLS é basicamente uma função de primeiro grau. O objetivo do meu modelo de ML, é dado um conjunto de dados, entender o padrão dentro deles, que possa ser descrito por uma função de primeiro grau, com uma variável. Quando tratamos de mais de uma variável, estamos olhando para uma RLM."
   ]
  },
  {
   "cell_type": "markdown",
   "id": "043c9792-e40f-4d52-a785-2eda2945d2bb",
   "metadata": {},
   "source": [
    "Antes de continuarmos, alguns conceitos importantes:\n",
    "\n",
    "<b>variável preditora:</b> é a variável independente, que tem o poder de influenciar na variável que nós queremos encontrar. No exemplo do preço da casa, a variável preditora pode ser o seu tamanho, a quantidade de quartos ou alguma outra informação. Quem vai nos dizer? Os dados que dispomos. Na equação acima, ela será o valor de a.\n",
    "\n",
    "<b>variável alvo ou dependente:</b> é a variável que queremos prever. No nosso exemplo, será o preço da casa. Na equação acima, ela terá como valor o resultado da função para cada valor de y."
   ]
  },
  {
   "cell_type": "code",
   "execution_count": 3,
   "id": "6ac5d3c8-b712-429b-801e-38a09c320b35",
   "metadata": {},
   "outputs": [],
   "source": [
    "# importando as libs\n",
    "import numpy as np\n",
    "import pandas as pd\n",
    "from sklearn.linear_model import LinearRegression\n",
    "import statsmodels.api as sm"
   ]
  },
  {
   "cell_type": "code",
   "execution_count": 5,
   "id": "f698aea7-8462-4aa3-a713-5d54375d54cc",
   "metadata": {},
   "outputs": [],
   "source": [
    "# variável preditora\n",
    "X = np.array([ 220, 220, 220, 220, 220, 225, 225, 225, 225, 225, 230, 230, 230, 230, 230, 235, 235, 235, 235, 235 ])"
   ]
  },
  {
   "cell_type": "code",
   "execution_count": 6,
   "id": "d76516a0-d5c1-4ce9-bbec-4da790dc7b9c",
   "metadata": {},
   "outputs": [],
   "source": [
    "# variável alvo\n",
    "y = np.array([ 137, 137, 137, 136, 135, 135, 133, 132, 133, 133, 128, 124, 126, 129, 126, 122, 122, 122, 119, 122 ])"
   ]
  },
  {
   "cell_type": "markdown",
   "id": "2dca3184-50a1-4b61-a00b-bf672aa4ce31",
   "metadata": {},
   "source": [
    "<b>Visualizando estatísticas do modelo usando statsmodels</b></br>\n",
    "Primeiramente, o que seriam essas estatísticas? Como dito anteriormente, ao construímos nosso modelo, precisamos nos ater a algumas informações, como o R², os p-values para cada coeficiente e Estatística-F. Tais informações, são os dados estatísticos do modelo."
   ]
  },
  {
   "cell_type": "code",
   "execution_count": 7,
   "id": "ade11260-c8a3-4915-bd0c-e9a2f4c7643e",
   "metadata": {},
   "outputs": [],
   "source": [
    "# é necessário adicionar uma constante a matriz X\n",
    "X_sm = sm.add_constant(X)"
   ]
  },
  {
   "cell_type": "code",
   "execution_count": 8,
   "id": "22802835-0de8-4898-9d01-c1ca6da229b6",
   "metadata": {},
   "outputs": [],
   "source": [
    "# OLS vem de Ordinary Least Squares e o método fit irá treinar o modelo\n",
    "results = sm.OLS(y, X_sm).fit()"
   ]
  },
  {
   "cell_type": "code",
   "execution_count": 9,
   "id": "975caddd-2001-4c3e-8c4b-5b3c2e3f9a55",
   "metadata": {},
   "outputs": [
    {
     "data": {
      "text/html": [
       "<table class=\"simpletable\">\n",
       "<caption>OLS Regression Results</caption>\n",
       "<tr>\n",
       "  <th>Dep. Variable:</th>            <td>y</td>        <th>  R-squared:         </th> <td>   0.942</td>\n",
       "</tr>\n",
       "<tr>\n",
       "  <th>Model:</th>                   <td>OLS</td>       <th>  Adj. R-squared:    </th> <td>   0.939</td>\n",
       "</tr>\n",
       "<tr>\n",
       "  <th>Method:</th>             <td>Least Squares</td>  <th>  F-statistic:       </th> <td>   291.1</td>\n",
       "</tr>\n",
       "<tr>\n",
       "  <th>Date:</th>             <td>Fri, 08 Mar 2024</td> <th>  Prob (F-statistic):</th> <td>1.47e-12</td>\n",
       "</tr>\n",
       "<tr>\n",
       "  <th>Time:</th>                 <td>23:39:42</td>     <th>  Log-Likelihood:    </th> <td> -35.596</td>\n",
       "</tr>\n",
       "<tr>\n",
       "  <th>No. Observations:</th>      <td>    20</td>      <th>  AIC:               </th> <td>   75.19</td>\n",
       "</tr>\n",
       "<tr>\n",
       "  <th>Df Residuals:</th>          <td>    18</td>      <th>  BIC:               </th> <td>   77.18</td>\n",
       "</tr>\n",
       "<tr>\n",
       "  <th>Df Model:</th>              <td>     1</td>      <th>                     </th>     <td> </td>   \n",
       "</tr>\n",
       "<tr>\n",
       "  <th>Covariance Type:</th>      <td>nonrobust</td>    <th>                     </th>     <td> </td>   \n",
       "</tr>\n",
       "</table>\n",
       "<table class=\"simpletable\">\n",
       "<tr>\n",
       "    <td></td>       <th>coef</th>     <th>std err</th>      <th>t</th>      <th>P>|t|</th>  <th>[0.025</th>    <th>0.975]</th>  \n",
       "</tr>\n",
       "<tr>\n",
       "  <th>const</th> <td>  364.1800</td> <td>   13.765</td> <td>   26.457</td> <td> 0.000</td> <td>  335.261</td> <td>  393.099</td>\n",
       "</tr>\n",
       "<tr>\n",
       "  <th>x1</th>    <td>   -1.0320</td> <td>    0.060</td> <td>  -17.062</td> <td> 0.000</td> <td>   -1.159</td> <td>   -0.905</td>\n",
       "</tr>\n",
       "</table>\n",
       "<table class=\"simpletable\">\n",
       "<tr>\n",
       "  <th>Omnibus:</th>       <td> 0.433</td> <th>  Durbin-Watson:     </th> <td>   2.235</td>\n",
       "</tr>\n",
       "<tr>\n",
       "  <th>Prob(Omnibus):</th> <td> 0.805</td> <th>  Jarque-Bera (JB):  </th> <td>   0.115</td>\n",
       "</tr>\n",
       "<tr>\n",
       "  <th>Skew:</th>          <td>-0.182</td> <th>  Prob(JB):          </th> <td>   0.944</td>\n",
       "</tr>\n",
       "<tr>\n",
       "  <th>Kurtosis:</th>      <td> 2.926</td> <th>  Cond. No.          </th> <td>9.26e+03</td>\n",
       "</tr>\n",
       "</table><br/><br/>Notes:<br/>[1] Standard Errors assume that the covariance matrix of the errors is correctly specified.<br/>[2] The condition number is large, 9.26e+03. This might indicate that there are<br/>strong multicollinearity or other numerical problems."
      ],
      "text/plain": [
       "<class 'statsmodels.iolib.summary.Summary'>\n",
       "\"\"\"\n",
       "                            OLS Regression Results                            \n",
       "==============================================================================\n",
       "Dep. Variable:                      y   R-squared:                       0.942\n",
       "Model:                            OLS   Adj. R-squared:                  0.939\n",
       "Method:                 Least Squares   F-statistic:                     291.1\n",
       "Date:                Fri, 08 Mar 2024   Prob (F-statistic):           1.47e-12\n",
       "Time:                        23:39:42   Log-Likelihood:                -35.596\n",
       "No. Observations:                  20   AIC:                             75.19\n",
       "Df Residuals:                      18   BIC:                             77.18\n",
       "Df Model:                           1                                         \n",
       "Covariance Type:            nonrobust                                         \n",
       "==============================================================================\n",
       "                 coef    std err          t      P>|t|      [0.025      0.975]\n",
       "------------------------------------------------------------------------------\n",
       "const        364.1800     13.765     26.457      0.000     335.261     393.099\n",
       "x1            -1.0320      0.060    -17.062      0.000      -1.159      -0.905\n",
       "==============================================================================\n",
       "Omnibus:                        0.433   Durbin-Watson:                   2.235\n",
       "Prob(Omnibus):                  0.805   Jarque-Bera (JB):                0.115\n",
       "Skew:                          -0.182   Prob(JB):                        0.944\n",
       "Kurtosis:                       2.926   Cond. No.                     9.26e+03\n",
       "==============================================================================\n",
       "\n",
       "Notes:\n",
       "[1] Standard Errors assume that the covariance matrix of the errors is correctly specified.\n",
       "[2] The condition number is large, 9.26e+03. This might indicate that there are\n",
       "strong multicollinearity or other numerical problems.\n",
       "\"\"\""
      ]
     },
     "execution_count": 9,
     "metadata": {},
     "output_type": "execute_result"
    }
   ],
   "source": [
    "# mostrando as estatísticas do modelo\n",
    "results.summary()"
   ]
  },
  {
   "cell_type": "code",
   "execution_count": 10,
   "id": "8838e6f2-1104-4cba-892a-cd957b5843c8",
   "metadata": {},
   "outputs": [
    {
     "data": {
      "text/plain": [
       "array([137.14, 137.14, 137.14, 137.14, 137.14, 131.98, 131.98, 131.98,\n",
       "       131.98, 131.98, 126.82, 126.82, 126.82, 126.82, 126.82, 121.66,\n",
       "       121.66, 121.66, 121.66, 121.66])"
      ]
     },
     "execution_count": 10,
     "metadata": {},
     "output_type": "execute_result"
    }
   ],
   "source": [
    "# mostrando as previsões para o mesmo conjunto passado\n",
    "results.predict(X_sm)"
   ]
  },
  {
   "cell_type": "markdown",
   "id": "1f7ad794-f4a8-4f17-8201-da92ced5398a",
   "metadata": {},
   "source": [
    "<b>o modelo com o scikit-learn</b>"
   ]
  },
  {
   "cell_type": "code",
   "execution_count": 23,
   "id": "fdb675bc-4841-4d55-b4ab-69277aeed29f",
   "metadata": {},
   "outputs": [
    {
     "data": {
      "text/plain": [
       "array([16.])"
      ]
     },
     "execution_count": 23,
     "metadata": {},
     "output_type": "execute_result"
    }
   ],
   "source": [
    "import numpy as np\n",
    "from sklearn.linear_model import LinearRegression\n",
    "\n",
    "X = np.array([[1, 1], [1, 2], [2, 2], [2, 3]])\n",
    "# y = 1 * x_0 + 2 * x_1 + 3\n",
    "y = np.dot(X, np.array([1, 2])) + 3\n",
    "reg = LinearRegression().fit(X, y)\n",
    "reg.score(X, y)\n",
    "\n",
    "reg.coef_\n",
    "\n",
    "reg.intercept_\n",
    "reg.predict(np.array([[3, 5]]))\n"
   ]
  },
  {
   "cell_type": "code",
   "execution_count": null,
   "id": "aebc5b33-ac43-4a3b-8646-1b8a238ca2b0",
   "metadata": {},
   "outputs": [],
   "source": []
  }
 ],
 "metadata": {
  "kernelspec": {
   "display_name": "Python 3 (ipykernel)",
   "language": "python",
   "name": "python3"
  },
  "language_info": {
   "codemirror_mode": {
    "name": "ipython",
    "version": 3
   },
   "file_extension": ".py",
   "mimetype": "text/x-python",
   "name": "python",
   "nbconvert_exporter": "python",
   "pygments_lexer": "ipython3",
   "version": "3.7.13"
  }
 },
 "nbformat": 4,
 "nbformat_minor": 5
}
